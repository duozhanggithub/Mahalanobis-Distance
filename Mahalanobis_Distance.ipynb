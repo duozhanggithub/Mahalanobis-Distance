{
 "cells": [
  {
   "cell_type": "code",
   "execution_count": 1,
   "metadata": {},
   "outputs": [
    {
     "data": {
      "text/plain": [
       "array([[ 64., 580.,  29.],\n",
       "       [ 66., 570.,  33.],\n",
       "       [ 68., 590.,  37.],\n",
       "       [ 69., 660.,  46.],\n",
       "       [ 73., 600.,  55.]])"
      ]
     },
     "execution_count": 1,
     "metadata": {},
     "output_type": "execute_result"
    }
   ],
   "source": [
    "import numpy as np\n",
    "\n",
    "array = np.array([\n",
    "[64.0, 580.0, 29.0],    \n",
    "[66.0, 570.0, 33.0], \n",
    "[68.0, 590.0, 37.0], \n",
    "[69.0, 660.0, 46.0],\n",
    "[73.0, 600.0, 55.0],\n",
    "])\n",
    "\n",
    "array"
   ]
  },
  {
   "cell_type": "code",
   "execution_count": 2,
   "metadata": {},
   "outputs": [
    {
     "data": {
      "text/plain": [
       "array([ 68., 600.,  40.])"
      ]
     },
     "execution_count": 2,
     "metadata": {},
     "output_type": "execute_result"
    }
   ],
   "source": [
    "# mean values of array\n",
    "mean = np.mean(array, axis=0)\n",
    "mean"
   ]
  },
  {
   "cell_type": "code",
   "execution_count": 3,
   "metadata": {},
   "outputs": [
    {
     "data": {
      "text/plain": [
       "array([[  11.5 ,   50.  ,   34.75],\n",
       "       [  50.  , 1250.  ,  205.  ],\n",
       "       [  34.75,  205.  ,  110.  ]])"
      ]
     },
     "execution_count": 3,
     "metadata": {},
     "output_type": "execute_result"
    }
   ],
   "source": [
    "# covariance matrix\n",
    "cov = np.cov(array.T)\n",
    "cov"
   ]
  },
  {
   "cell_type": "code",
   "execution_count": 4,
   "metadata": {},
   "outputs": [],
   "source": [
    "# invert the covariance matrix\n",
    "cov_inv = np.linalg.inv(cov)"
   ]
  },
  {
   "cell_type": "code",
   "execution_count": 5,
   "metadata": {},
   "outputs": [
    {
     "data": {
      "text/plain": [
       "1.443699755720487"
      ]
     },
     "execution_count": 5,
     "metadata": {},
     "output_type": "execute_result"
    }
   ],
   "source": [
    "# Solution 1, in numpy only, calculate the Mahalanobis Distance between one vector of the array to the mean value vector\n",
    "diff = array[0] - mean\n",
    "\n",
    "mahalanobis_distance = np.dot(diff.T, cov_inv)\n",
    "mahalanobis_distance = np.dot(mahalanobis_distance, diff)\n",
    "mahalanobis_distance = np.sqrt(mahalanobis_distance)\n",
    "mahalanobis_distance"
   ]
  },
  {
   "cell_type": "code",
   "execution_count": 6,
   "metadata": {},
   "outputs": [
    {
     "data": {
      "text/plain": [
       "1.443699755720487"
      ]
     },
     "metadata": {},
     "output_type": "display_data"
    }
   ],
   "source": [
    "# Solution 1, use scipy\n",
    "from scipy.spatial import distance\n",
    "mahalanobis_distance = distance.mahalanobis(array[0], mean, cov_inv)\n",
    "display(mahalanobis_distance)"
   ]
  },
  {
   "cell_type": "code",
   "execution_count": null,
   "metadata": {},
   "outputs": [],
   "source": []
  }
 ],
 "metadata": {
  "kernelspec": {
   "display_name": "Python 3",
   "language": "python",
   "name": "python3"
  },
  "language_info": {
   "codemirror_mode": {
    "name": "ipython",
    "version": 3
   },
   "file_extension": ".py",
   "mimetype": "text/x-python",
   "name": "python",
   "nbconvert_exporter": "python",
   "pygments_lexer": "ipython3",
   "version": "3.6.5"
  }
 },
 "nbformat": 4,
 "nbformat_minor": 2
}
